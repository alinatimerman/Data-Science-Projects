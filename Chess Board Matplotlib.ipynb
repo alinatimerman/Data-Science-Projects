{
 "cells": [
  {
   "cell_type": "markdown",
   "id": "f5e03f9b",
   "metadata": {},
   "source": [
    "## Coding a Chess Board using Matplotlib"
   ]
  },
  {
   "cell_type": "code",
   "execution_count": 1,
   "id": "ff730d6c",
   "metadata": {},
   "outputs": [],
   "source": [
    "import matplotlib.pyplot as plt\n",
    "import numpy as np"
   ]
  },
  {
   "cell_type": "code",
   "execution_count": 2,
   "id": "ca35166e",
   "metadata": {},
   "outputs": [],
   "source": [
    "from matplotlib.colors import LogNorm"
   ]
  },
  {
   "cell_type": "code",
   "execution_count": 3,
   "id": "cdc3e4ff",
   "metadata": {},
   "outputs": [],
   "source": [
    "dx, dy =0.015, 0.05\n",
    "x=np.arange(-4.0,4.0,dx)\n",
    "y=np.arange(-4.0,4.0,dy)"
   ]
  },
  {
   "cell_type": "code",
   "execution_count": 4,
   "id": "ab6790dd",
   "metadata": {},
   "outputs": [],
   "source": [
    "X,Y=np.meshgrid(x,y)"
   ]
  },
  {
   "cell_type": "code",
   "execution_count": 6,
   "id": "361020ba",
   "metadata": {},
   "outputs": [
    {
     "data": {
      "text/plain": [
       "<matplotlib.image.AxesImage at 0x2edf3e4bb80>"
      ]
     },
     "execution_count": 6,
     "metadata": {},
     "output_type": "execute_result"
    },
    {
     "data": {
      "image/png": "[encoded data removed]",
      "text/plain": [
       "<Figure size 432x288 with 1 Axes>"
      ]
     },
     "metadata": {
      "needs_background": "light"
     },
     "output_type": "display_data"
    }
   ],
   "source": [
    "extent=np.min(x), np.max(x), np.min(y), np.max(y)\n",
    "Z1= np.add.outer(range(8), range(8)) %2\n",
    "plt.imshow(Z1, cmap=\"binary_r\",\n",
    "            interpolation='nearest',\n",
    "            extent=extent, alpha=1)"
   ]
  },
  {
   "cell_type": "markdown",
   "id": "56342299",
   "metadata": {},
   "source": [
    "### Matplotlib function test example"
   ]
  },
  {
   "cell_type": "code",
   "execution_count": 13,
   "id": "90a686c7",
   "metadata": {},
   "outputs": [
    {
     "data": {
      "image/png": "[encoded data removed]",
      "text/plain": [
       "<Figure size 432x288 with 1 Axes>"
      ]
     },
     "metadata": {
      "needs_background": "light"
     },
     "output_type": "display_data"
    }
   ],
   "source": [
    "def f(x,y):\n",
    "    return(1-x/3+x**8+y**2) * np.exp(-(x**8+y**2))\n",
    "Z2=f(X,Y)\n",
    "plt.imshow(Z2, alpha=0.7, interpolation='bilinear', extent=extent)\n",
    "plt.cool()\n",
    "plt.show()"
   ]
  },
  {
   "cell_type": "code",
   "execution_count": null,
   "id": "dfd62ca7",
   "metadata": {},
   "outputs": [],
   "source": []
  }
 ],
 "metadata": {
  "kernelspec": {
   "display_name": "Python 3",
   "language": "python",
   "name": "python3"
  },
  "language_info": {
   "codemirror_mode": {
    "name": "ipython",
    "version": 3
   },
   "file_extension": ".py",
   "mimetype": "text/x-python",
   "name": "python",
   "nbconvert_exporter": "python",
   "pygments_lexer": "ipython3",
   "version": "3.8.8"
  }
 },
 "nbformat": 4,
 "nbformat_minor": 5
}
